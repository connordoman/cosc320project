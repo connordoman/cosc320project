{
 "cells": [
  {
   "cell_type": "code",
   "execution_count": null,
   "metadata": {},
   "outputs": [],
   "source": [
    "import json\n",
    "import timeit, time\n",
    "from functools import partial\n",
    "from matplotlib import pyplot\n",
    "import numpy as np\n",
    "from pathlib import Path\n",
    "import math"
   ]
  },
  {
   "attachments": {},
   "cell_type": "markdown",
   "metadata": {},
   "source": [
    "# Not Your Grandma's Review Analyzer\n",
    "\n",
    "## COSC 320 - Milestone 3\n",
    "\n",
    "### Team Members\n",
    "\n",
    "Quinn Marshall, Archita Gattani, and Connor Doman"
   ]
  },
  {
   "attachments": {},
   "cell_type": "markdown",
   "metadata": {},
   "source": [
    "## Algorithm\n",
    "\n",
    "Our algorithm requires us to read from a JSON file. We load that here."
   ]
  },
  {
   "cell_type": "code",
   "execution_count": null,
   "metadata": {},
   "outputs": [],
   "source": [
    "DATA_FILE_FOLDER = '../data/raw/'\n",
    "DATA_FILE_NAME = 'sports_and_outdoors_reviews'\n",
    "DATA_FILE_TYPE = '.json'\n",
    "DATA_FILE_PATH = Path(DATA_FILE_FOLDER + DATA_FILE_NAME + DATA_FILE_TYPE)\n",
    "\n",
    "def get_reviews_from_sports_data():    \n",
    "    sports_data = []\n",
    "    start = time.time()\n",
    "    with open(Path(DATA_FILE_FOLDER + DATA_FILE_NAME + '_million' + DATA_FILE_TYPE), 'r') as f:\n",
    "        sports_data = json.load(f)\n",
    "    end = time.time()\n",
    "\n",
    "    print(f\"Got {len(sports_data)} reviews in {end - start:.2f}s\")\n",
    "\n",
    "    total_review_size = 0\n",
    "    review_text = []\n",
    "    for i, r in enumerate(sports_data):\n",
    "        if 'reviewText' in r:\n",
    "            total_review_size += len(r['reviewText'])\n",
    "            review_text.append(r['reviewText'])\n",
    "    print(f\"Average review length: {math.ceil(total_review_size / len(review_text))} characters\")\n",
    "\n",
    "    return review_text"
   ]
  },
  {
   "cell_type": "code",
   "execution_count": null,
   "metadata": {},
   "outputs": [],
   "source": [
    "\n",
    "REPLACEMENT_DICTIONARY = {\n",
    "    \"the\": \"THE\",\n",
    "}\n",
    "\n",
    "def replace_with_new_word(text):\n",
    "    text = text.strip()\n",
    "\n",
    "    # splitting the words in T\n",
    "    text_array = []\n",
    "    buffer_word = \"\"\n",
    "    for char in text:\n",
    "        \n",
    "        if char == \" \":\n",
    "            text_array.append(buffer_word)\n",
    "            buffer_word = \"\"\n",
    "        else:\n",
    "            buffer_word += char\n",
    "    text_array.append(buffer_word)\n",
    "\n",
    "    # replacing the words in T\n",
    "    for old_word, replacement in REPLACEMENT_DICTIONARY.items():\n",
    "        for word in text_array:\n",
    "            if word == old_word:\n",
    "                text_array[text_array.index(word)] = replacement\n",
    "    \n",
    "    # rebuilding the string\n",
    "    text = \"\"\n",
    "    for word in text_array:\n",
    "        text += word + \" \"\n",
    "\n",
    "    return text"
   ]
  }
 ],
 "metadata": {
  "language_info": {
   "name": "python"
  },
  "orig_nbformat": 4
 },
 "nbformat": 4,
 "nbformat_minor": 2
}
